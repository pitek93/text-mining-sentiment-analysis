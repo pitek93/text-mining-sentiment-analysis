{
 "cells": [
  {
   "cell_type": "markdown",
   "metadata": {},
   "source": [
    "# ImDb Movies Reviews Dataset from Kaggle - sentiment analysis"
   ]
  },
  {
   "cell_type": "code",
   "execution_count": 1,
   "metadata": {},
   "outputs": [],
   "source": [
    "import glob\n",
    "\n",
    "files_train_neg = glob.glob('train/neg/*.txt')\n",
    "files_train_pos = glob.glob('train/pos/*.txt')\n",
    "files_train = files_train_neg + files_train_pos\n",
    "\n",
    "files_test_neg = glob.glob('test/neg/*.txt') \n",
    "files_test_pos = glob.glob('test/pos/*.txt')\n",
    "files_test = files_test_neg + files_test_pos"
   ]
  },
  {
   "cell_type": "code",
   "execution_count": 2,
   "metadata": {},
   "outputs": [
    {
     "data": {
      "text/plain": [
       "12500"
      ]
     },
     "execution_count": 2,
     "metadata": {},
     "output_type": "execute_result"
    }
   ],
   "source": [
    "len(files_test_neg)"
   ]
  },
  {
   "cell_type": "markdown",
   "metadata": {},
   "source": [
    "## 1. Doc2Vec"
   ]
  },
  {
   "cell_type": "code",
   "execution_count": 3,
   "metadata": {},
   "outputs": [],
   "source": [
    "from sklearn.feature_extraction.text import TfidfVectorizer, CountVectorizer\n",
    "from sklearn.utils import shuffle"
   ]
  },
  {
   "cell_type": "code",
   "execution_count": 4,
   "metadata": {},
   "outputs": [],
   "source": [
    "def doc2vec(vectorizer):\n",
    "    \n",
    "    X_train = vectorizer.fit_transform(files_train)\n",
    "    y_train = [0]*len(files_train_neg) + [1]*len(files_train_pos)\n",
    "    X_train, y_train = shuffle(X_train, y_train)\n",
    "    \n",
    "    X_test = vectorizer.transform(files_test)\n",
    "    y_test = [0]*len(files_test_neg) + [1]*len(files_test_pos)\n",
    "    X_test, y_test = shuffle(X_test, y_test)\n",
    "    \n",
    "    return X_train, y_train, X_test, y_test"
   ]
  },
  {
   "cell_type": "code",
   "execution_count": 5,
   "metadata": {},
   "outputs": [],
   "source": [
    "vectorizer1 = CountVectorizer(input='filename')\n",
    "X_train1, y_train1, X_test1, y_test1 = doc2vec(vectorizer1)"
   ]
  },
  {
   "cell_type": "code",
   "execution_count": 6,
   "metadata": {},
   "outputs": [
    {
     "data": {
      "text/plain": [
       "25000"
      ]
     },
     "execution_count": 6,
     "metadata": {},
     "output_type": "execute_result"
    }
   ],
   "source": [
    "len(y_test1)"
   ]
  },
  {
   "cell_type": "code",
   "execution_count": 7,
   "metadata": {},
   "outputs": [],
   "source": [
    "vectorizer2 = CountVectorizer(input='filename', stop_words='english')\n",
    "X_train2, y_train2, X_test2, y_test2 = doc2vec(vectorizer2)"
   ]
  },
  {
   "cell_type": "code",
   "execution_count": 8,
   "metadata": {},
   "outputs": [],
   "source": [
    "vectorizer3 = TfidfVectorizer(input='filename')\n",
    "X_train3, y_train3, X_test3, y_test3 = doc2vec(vectorizer3)"
   ]
  },
  {
   "cell_type": "code",
   "execution_count": 9,
   "metadata": {},
   "outputs": [],
   "source": [
    "vectorizer4 = TfidfVectorizer(input='filename', stop_words='english')\n",
    "X_train4, y_train4, X_test4, y_test4 = doc2vec(vectorizer4)"
   ]
  },
  {
   "cell_type": "markdown",
   "metadata": {},
   "source": [
    "## 2. Classifiers:"
   ]
  },
  {
   "cell_type": "markdown",
   "metadata": {},
   "source": [
    "#### 2.1 Naive Bayes (Multinomial)"
   ]
  },
  {
   "cell_type": "code",
   "execution_count": 10,
   "metadata": {},
   "outputs": [],
   "source": [
    "from sklearn.naive_bayes import MultinomialNB"
   ]
  },
  {
   "cell_type": "code",
   "execution_count": 11,
   "metadata": {},
   "outputs": [
    {
     "data": {
      "text/plain": [
       "0.81356"
      ]
     },
     "execution_count": 11,
     "metadata": {},
     "output_type": "execute_result"
    }
   ],
   "source": [
    "# 1 count vectorizer, keeping stopwords\n",
    "clf_multi_nb1 = MultinomialNB()\n",
    "clf_multi_nb1.fit(X_train1, y_train1)\n",
    "clf_multi_nb1.score(X_test1, y_test1)"
   ]
  },
  {
   "cell_type": "code",
   "execution_count": 12,
   "metadata": {},
   "outputs": [
    {
     "data": {
      "text/plain": [
       "0.81968"
      ]
     },
     "execution_count": 12,
     "metadata": {},
     "output_type": "execute_result"
    }
   ],
   "source": [
    "# 2 count vectorizer, removing stopwords\n",
    "clf_multi_nb2 = MultinomialNB()\n",
    "clf_multi_nb2.fit(X_train2, y_train2)\n",
    "clf_multi_nb2.score(X_test2, y_test2)"
   ]
  },
  {
   "cell_type": "code",
   "execution_count": 13,
   "metadata": {},
   "outputs": [
    {
     "data": {
      "text/plain": [
       "0.82956"
      ]
     },
     "execution_count": 13,
     "metadata": {},
     "output_type": "execute_result"
    }
   ],
   "source": [
    "# 3 tfidf vectorizer, keeping stopwords\n",
    "clf_multi_nb3 = MultinomialNB()\n",
    "clf_multi_nb3.fit(X_train3, y_train3)\n",
    "clf_multi_nb3.score(X_test3, y_test3)"
   ]
  },
  {
   "cell_type": "code",
   "execution_count": 14,
   "metadata": {},
   "outputs": [
    {
     "data": {
      "text/plain": [
       "0.82992"
      ]
     },
     "execution_count": 14,
     "metadata": {},
     "output_type": "execute_result"
    }
   ],
   "source": [
    "# 4 tfidf vectorizer, removing stopwords\n",
    "clf_multi_nb4 = MultinomialNB()\n",
    "clf_multi_nb4.fit(X_train4, y_train4)\n",
    "clf_multi_nb4.score(X_test4, y_test4)"
   ]
  },
  {
   "cell_type": "code",
   "execution_count": 15,
   "metadata": {},
   "outputs": [
    {
     "name": "stdout",
     "output_type": "stream",
     "text": [
      "{'alpha': 0.8, 'fit_prior': True}\n",
      "0.82756\n"
     ]
    }
   ],
   "source": [
    "# tfidf vectorizer, removing stopwords + grid search\n",
    "from sklearn.model_selection import GridSearchCV\n",
    "params = {'alpha' : [0.01, 0.05, 0.08, 0.1, 0.2, 0.3, 0.4, 0.5, 0.6, 0.7, 0.8, 0.9, 1.0],\n",
    "          'fit_prior' : [True, False]}\n",
    "clf_multinb_best = GridSearchCV(MultinomialNB(), params)\n",
    "clf_multinb_best.fit(X_train4, y_train4)\n",
    "clf_multinb_best.score(X_test4, y_test4)\n",
    "print(clf_multinb_best.best_params_)\n",
    "print(clf_multinb_best.score(X_test4, y_test4))"
   ]
  },
  {
   "cell_type": "markdown",
   "metadata": {},
   "source": [
    "Additional grid search did not help to improve the model"
   ]
  },
  {
   "cell_type": "markdown",
   "metadata": {},
   "source": [
    "#### 2.2 Naive Bayes (Bernoulli)"
   ]
  },
  {
   "cell_type": "code",
   "execution_count": 16,
   "metadata": {},
   "outputs": [],
   "source": [
    "from sklearn.naive_bayes import BernoulliNB"
   ]
  },
  {
   "cell_type": "code",
   "execution_count": 17,
   "metadata": {},
   "outputs": [
    {
     "data": {
      "text/plain": [
       "0.82596"
      ]
     },
     "execution_count": 17,
     "metadata": {},
     "output_type": "execute_result"
    }
   ],
   "source": [
    "# 1 count vectorizer, keeping stopwords\n",
    "clf_bern_nb1 = BernoulliNB()\n",
    "clf_bern_nb1.fit(X_train1, y_train1)\n",
    "clf_bern_nb1.score(X_test1, y_test1)"
   ]
  },
  {
   "cell_type": "code",
   "execution_count": 18,
   "metadata": {},
   "outputs": [
    {
     "data": {
      "text/plain": [
       "0.8154"
      ]
     },
     "execution_count": 18,
     "metadata": {},
     "output_type": "execute_result"
    }
   ],
   "source": [
    "# 2 count vectorizer, removing stopwords\n",
    "clf_bern_nb2 = BernoulliNB()\n",
    "clf_bern_nb2.fit(X_train2, y_train2)\n",
    "clf_bern_nb2.score(X_test2, y_test2)"
   ]
  },
  {
   "cell_type": "code",
   "execution_count": 19,
   "metadata": {},
   "outputs": [
    {
     "data": {
      "text/plain": [
       "0.82596"
      ]
     },
     "execution_count": 19,
     "metadata": {},
     "output_type": "execute_result"
    }
   ],
   "source": [
    "# 3 tfidf vectorizer, keeping stopwords\n",
    "clf_bern_nb3 = BernoulliNB()\n",
    "clf_bern_nb3.fit(X_train3, y_train3)\n",
    "clf_bern_nb3.score(X_test3, y_test3)"
   ]
  },
  {
   "cell_type": "code",
   "execution_count": 20,
   "metadata": {},
   "outputs": [
    {
     "data": {
      "text/plain": [
       "0.8154"
      ]
     },
     "execution_count": 20,
     "metadata": {},
     "output_type": "execute_result"
    }
   ],
   "source": [
    "# 4 tfidf vectorizer, removing stopwords\n",
    "clf_bern_nb4 = BernoulliNB()\n",
    "clf_bern_nb4.fit(X_train4, y_train4)\n",
    "clf_bern_nb4.score(X_test4, y_test4)"
   ]
  },
  {
   "cell_type": "code",
   "execution_count": 21,
   "metadata": {},
   "outputs": [
    {
     "name": "stdout",
     "output_type": "stream",
     "text": [
      "{'alpha': 0.6, 'fit_prior': True}\n",
      "0.81332\n"
     ]
    }
   ],
   "source": [
    "# tfidf vectorizer, removing stopwords + grid search\n",
    "from sklearn.model_selection import GridSearchCV\n",
    "params = {'alpha' : [0.01, 0.05, 0.08, 0.1, 0.2, 0.3, 0.4, 0.5, 0.6, 0.7, 0.8, 0.9, 1.0],\n",
    "          'fit_prior' : [True, False]}\n",
    "clf_bern_best = GridSearchCV(BernoulliNB(), params)\n",
    "clf_bern_best.fit(X_train4, y_train4)\n",
    "clf_bern_best.score(X_test4, y_test4)\n",
    "print(clf_bern_best.best_params_)\n",
    "print(clf_bern_best.score(X_test4, y_test4))"
   ]
  },
  {
   "cell_type": "markdown",
   "metadata": {},
   "source": [
    "Additional grid search did not help to improve the model"
   ]
  },
  {
   "cell_type": "markdown",
   "metadata": {},
   "source": [
    "#### 2.3 Rocchio"
   ]
  },
  {
   "cell_type": "code",
   "execution_count": 22,
   "metadata": {},
   "outputs": [],
   "source": [
    "from sklearn.neighbors import NearestCentroid"
   ]
  },
  {
   "cell_type": "code",
   "execution_count": 23,
   "metadata": {},
   "outputs": [
    {
     "data": {
      "text/plain": [
       "0.55048"
      ]
     },
     "execution_count": 23,
     "metadata": {},
     "output_type": "execute_result"
    }
   ],
   "source": [
    "# 1 count vectorizer, keeping stopwords\n",
    "clf_rocchio1 = NearestCentroid()\n",
    "clf_rocchio1.fit(X_train1, y_train1)\n",
    "clf_rocchio1.score(X_test1, y_test1)"
   ]
  },
  {
   "cell_type": "code",
   "execution_count": 24,
   "metadata": {},
   "outputs": [
    {
     "data": {
      "text/plain": [
       "0.63248"
      ]
     },
     "execution_count": 24,
     "metadata": {},
     "output_type": "execute_result"
    }
   ],
   "source": [
    "# 2 count vectorizer, removing stopwords\n",
    "clf_rocchio2 = NearestCentroid()\n",
    "clf_rocchio2.fit(X_train2, y_train2)\n",
    "clf_rocchio2.score(X_test2, y_test2)"
   ]
  },
  {
   "cell_type": "code",
   "execution_count": 25,
   "metadata": {},
   "outputs": [
    {
     "data": {
      "text/plain": [
       "0.76196"
      ]
     },
     "execution_count": 25,
     "metadata": {},
     "output_type": "execute_result"
    }
   ],
   "source": [
    "# 3 tfidf vectorizer, keeping stopwords\n",
    "clf_rocchio3 = NearestCentroid()\n",
    "clf_rocchio3.fit(X_train3, y_train3)\n",
    "clf_rocchio3.score(X_test3, y_test3)"
   ]
  },
  {
   "cell_type": "code",
   "execution_count": 26,
   "metadata": {},
   "outputs": [
    {
     "data": {
      "text/plain": [
       "0.77224"
      ]
     },
     "execution_count": 26,
     "metadata": {},
     "output_type": "execute_result"
    }
   ],
   "source": [
    "# 4 tfidf vectorizer, removing stopwords\n",
    "clf_rocchio4 = NearestCentroid()\n",
    "clf_rocchio4.fit(X_train4, y_train4)\n",
    "clf_rocchio4.score(X_test4, y_test4)"
   ]
  },
  {
   "cell_type": "code",
   "execution_count": 27,
   "metadata": {},
   "outputs": [
    {
     "name": "stdout",
     "output_type": "stream",
     "text": [
      "{'metric': 'cosine'}\n",
      "0.82004\n"
     ]
    }
   ],
   "source": [
    "# 5 tfidf vectorizer, removing stopwords + grid search\n",
    "import warnings\n",
    "warnings.filterwarnings('ignore')\n",
    "params = {'metric' : ['euclidean', 'cityblock', 'cosine', 'euclidean', 'l1', 'l2', 'manhattan']}\n",
    "clf_rocchio_best = GridSearchCV(NearestCentroid(), params)\n",
    "clf_rocchio_best.fit(X_train4, y_train4)\n",
    "clf_rocchio_best.score(X_test4, y_test4)\n",
    "print(clf_rocchio_best.best_params_)\n",
    "print(clf_rocchio_best.score(X_test4, y_test4))"
   ]
  },
  {
   "cell_type": "markdown",
   "metadata": {},
   "source": [
    "Model with best parameters from a given grid search stands at 0.82004 accuracy (around 4.7% improvement from previous best)."
   ]
  },
  {
   "cell_type": "markdown",
   "metadata": {},
   "source": [
    "#### 2.4 kNN"
   ]
  },
  {
   "cell_type": "code",
   "execution_count": 28,
   "metadata": {},
   "outputs": [],
   "source": [
    "from sklearn.neighbors import KNeighborsClassifier"
   ]
  },
  {
   "cell_type": "code",
   "execution_count": 29,
   "metadata": {},
   "outputs": [
    {
     "name": "stdout",
     "output_type": "stream",
     "text": [
      "{'metric': 'cosine', 'n_neighbors': 29, 'weights': 'distance'}\n",
      "0.70488\n"
     ]
    }
   ],
   "source": [
    "from sklearn.model_selection import GridSearchCV\n",
    "params = {'n_neighbors' : [23, 25, 27, 29, 31],\n",
    "          'metric' : ['cosine', 'euclidean'],\n",
    "          'weights' : ['uniform', 'distance']\n",
    "         }\n",
    "clf_knn_best = GridSearchCV(KNeighborsClassifier(), params, n_jobs = -1)\n",
    "clf_knn_best.fit(X_train4, y_train4)\n",
    "print(clf_knn_best.best_params_)\n",
    "print(clf_knn_best.score(X_test4, y_test4))"
   ]
  },
  {
   "cell_type": "markdown",
   "metadata": {},
   "source": [
    "#### 2.5 SVM"
   ]
  },
  {
   "cell_type": "code",
   "execution_count": 30,
   "metadata": {},
   "outputs": [
    {
     "name": "stdout",
     "output_type": "stream",
     "text": [
      "{'C': 0.1}\n",
      "0.87984\n"
     ]
    }
   ],
   "source": [
    "from sklearn.svm import LinearSVC\n",
    "params = {'C' : [0.001, 0.01, 0.1, 1, 10]}\n",
    "clf_linsvm_best = GridSearchCV(LinearSVC(), params, n_jobs = -1)\n",
    "clf_linsvm_best.fit(X_train4, y_train4)\n",
    "print(clf_linsvm_best.best_params_)\n",
    "print(clf_linsvm_best.score(X_test4, y_test4))"
   ]
  },
  {
   "cell_type": "code",
   "execution_count": 31,
   "metadata": {},
   "outputs": [],
   "source": [
    "# takes alot of time to compute\n",
    "# from sklearn.svm import SVC\n",
    "# params = {'kernel' : ['poly', 'sigmoid'],\n",
    "#           'C' : [0.001, 0.01, 0.1, 1, 10]\n",
    "#          }\n",
    "# clf_svm_best = GridSearchCV(SVC(), params, n_jobs = -1)\n",
    "# clf_svm_best.fit(X_train4, y_train4)\n",
    "# print(clf_svm_best.best_params_)\n",
    "# print(clf_svm_best.score(X_test4, y_test4))"
   ]
  },
  {
   "cell_type": "markdown",
   "metadata": {},
   "source": [
    "## 3. Metrics"
   ]
  },
  {
   "cell_type": "markdown",
   "metadata": {},
   "source": [
    "#### detailed metrics for top models:"
   ]
  },
  {
   "cell_type": "code",
   "execution_count": 32,
   "metadata": {},
   "outputs": [],
   "source": [
    "import matplotlib.pyplot as plt  \n",
    "from sklearn.metrics import plot_confusion_matrix, classification_report"
   ]
  },
  {
   "cell_type": "code",
   "execution_count": 33,
   "metadata": {},
   "outputs": [
    {
     "data": {
      "image/png": "[encoded data removed]",
      "text/plain": [
       "<Figure size 432x288 with 2 Axes>"
      ]
     },
     "metadata": {
      "needs_background": "light"
     },
     "output_type": "display_data"
    },
    {
     "name": "stdout",
     "output_type": "stream",
     "text": [
      "Multinomial Naive Bayes on tfidf vectorized data (no stop words)\n",
      "               precision    recall  f1-score   support\n",
      "\n",
      "           0       0.80      0.88      0.84     12500\n",
      "           1       0.87      0.78      0.82     12500\n",
      "\n",
      "    accuracy                           0.83     25000\n",
      "   macro avg       0.83      0.83      0.83     25000\n",
      "weighted avg       0.83      0.83      0.83     25000\n",
      "\n"
     ]
    }
   ],
   "source": [
    "plot_confusion_matrix(clf_multi_nb4, X_test4, y_test4)  \n",
    "plt.show()\n",
    "y_pred = clf_multi_nb4.predict(X_test4)\n",
    "print('Multinomial Naive Bayes on tfidf vectorized data (no stop words)\\n',\n",
    "      classification_report(y_test4, y_pred))"
   ]
  },
  {
   "cell_type": "code",
   "execution_count": 34,
   "metadata": {},
   "outputs": [
    {
     "data": {
      "image/png": "[encoded data removed]",
      "text/plain": [
       "<Figure size 432x288 with 2 Axes>"
      ]
     },
     "metadata": {
      "needs_background": "light"
     },
     "output_type": "display_data"
    },
    {
     "name": "stdout",
     "output_type": "stream",
     "text": [
      "Bernoulli Naive Bayes on tfidf vectorized data (no stop words)\n",
      "               precision    recall  f1-score   support\n",
      "\n",
      "           0       0.80      0.88      0.84     12500\n",
      "           1       0.87      0.78      0.82     12500\n",
      "\n",
      "    accuracy                           0.83     25000\n",
      "   macro avg       0.83      0.83      0.83     25000\n",
      "weighted avg       0.83      0.83      0.83     25000\n",
      "\n"
     ]
    }
   ],
   "source": [
    "plot_confusion_matrix(clf_bern_best, X_test4, y_test4)  \n",
    "plt.show()\n",
    "y_pred = clf_multi_nb4.predict(X_test4)\n",
    "print('Bernoulli Naive Bayes on tfidf vectorized data (no stop words)\\n',\n",
    "      classification_report(y_test4, y_pred))"
   ]
  },
  {
   "cell_type": "code",
   "execution_count": 35,
   "metadata": {},
   "outputs": [
    {
     "data": {
      "image/png": "[encoded data removed]",
      "text/plain": [
       "<Figure size 432x288 with 2 Axes>"
      ]
     },
     "metadata": {
      "needs_background": "light"
     },
     "output_type": "display_data"
    },
    {
     "name": "stdout",
     "output_type": "stream",
     "text": [
      "Rocchio on tfidf vectorized data (no stop words)\n",
      "               precision    recall  f1-score   support\n",
      "\n",
      "           0       0.83      0.80      0.82     12500\n",
      "           1       0.81      0.84      0.82     12500\n",
      "\n",
      "    accuracy                           0.82     25000\n",
      "   macro avg       0.82      0.82      0.82     25000\n",
      "weighted avg       0.82      0.82      0.82     25000\n",
      "\n"
     ]
    }
   ],
   "source": [
    "plot_confusion_matrix(clf_rocchio_best, X_test4, y_test4)  \n",
    "plt.show()\n",
    "y_pred = clf_rocchio_best.predict(X_test4)\n",
    "print('Rocchio on tfidf vectorized data (no stop words)\\n',\n",
    "      classification_report(y_test4, y_pred))"
   ]
  },
  {
   "cell_type": "code",
   "execution_count": 36,
   "metadata": {},
   "outputs": [
    {
     "data": {
      "image/png": "[encoded data removed]",
      "text/plain": [
       "<Figure size 432x288 with 2 Axes>"
      ]
     },
     "metadata": {
      "needs_background": "light"
     },
     "output_type": "display_data"
    },
    {
     "name": "stdout",
     "output_type": "stream",
     "text": [
      "kNN on tfidf vectorized data (no stop words)\n",
      "               precision    recall  f1-score   support\n",
      "\n",
      "           0       0.67      0.80      0.73     12500\n",
      "           1       0.75      0.61      0.67     12500\n",
      "\n",
      "    accuracy                           0.70     25000\n",
      "   macro avg       0.71      0.70      0.70     25000\n",
      "weighted avg       0.71      0.70      0.70     25000\n",
      "\n"
     ]
    }
   ],
   "source": [
    "plot_confusion_matrix(clf_knn_best, X_test4, y_test4)  \n",
    "plt.show()\n",
    "y_pred = clf_knn_best.predict(X_test4)\n",
    "print('kNN on tfidf vectorized data (no stop words)\\n',\n",
    "      classification_report(y_test4, y_pred))"
   ]
  },
  {
   "cell_type": "code",
   "execution_count": 37,
   "metadata": {},
   "outputs": [
    {
     "data": {
      "image/png": "[encoded data removed]",
      "text/plain": [
       "<Figure size 432x288 with 2 Axes>"
      ]
     },
     "metadata": {
      "needs_background": "light"
     },
     "output_type": "display_data"
    },
    {
     "name": "stdout",
     "output_type": "stream",
     "text": [
      "SVM on tfidf vectorized data (no stop words)\n",
      "               precision    recall  f1-score   support\n",
      "\n",
      "           0       0.88      0.88      0.88     12500\n",
      "           1       0.88      0.88      0.88     12500\n",
      "\n",
      "    accuracy                           0.88     25000\n",
      "   macro avg       0.88      0.88      0.88     25000\n",
      "weighted avg       0.88      0.88      0.88     25000\n",
      "\n"
     ]
    }
   ],
   "source": [
    "plot_confusion_matrix(clf_linsvm_best, X_test4, y_test4)  \n",
    "plt.show()\n",
    "y_pred = clf_linsvm_best.predict(X_test4)\n",
    "print('SVM on tfidf vectorized data (no stop words)\\n',\n",
    "      classification_report(y_test4, y_pred))"
   ]
  },
  {
   "cell_type": "markdown",
   "metadata": {},
   "source": [
    "## 4. LSA dim reduction"
   ]
  },
  {
   "cell_type": "code",
   "execution_count": 38,
   "metadata": {},
   "outputs": [],
   "source": [
    "#to do, porownac modele + miary jakosci"
   ]
  },
  {
   "cell_type": "code",
   "execution_count": 39,
   "metadata": {},
   "outputs": [
    {
     "data": {
      "text/plain": [
       "(25000, 500)"
      ]
     },
     "execution_count": 39,
     "metadata": {},
     "output_type": "execute_result"
    }
   ],
   "source": [
    "from sklearn.decomposition import TruncatedSVD\n",
    "lsa = TruncatedSVD(n_components = 500)\n",
    "X_train_lsa4 = lsa.fit_transform(X_train4)\n",
    "X_test_lsa4 = lsa.transform(X_test4)\n",
    "X_train_lsa4.shape"
   ]
  },
  {
   "cell_type": "code",
   "execution_count": 40,
   "metadata": {},
   "outputs": [
    {
     "name": "stdout",
     "output_type": "stream",
     "text": [
      "0.7728\n"
     ]
    },
    {
     "data": {
      "image/png": "[encoded data removed]",
      "text/plain": [
       "<Figure size 432x288 with 2 Axes>"
      ]
     },
     "metadata": {
      "needs_background": "light"
     },
     "output_type": "display_data"
    },
    {
     "name": "stdout",
     "output_type": "stream",
     "text": [
      "Bernoulli Naive Bayes on tfidf vectorized, dim reduced data (no stop words)\n",
      "               precision    recall  f1-score   support\n",
      "\n",
      "           0       0.77      0.77      0.77     12500\n",
      "           1       0.77      0.77      0.77     12500\n",
      "\n",
      "    accuracy                           0.77     25000\n",
      "   macro avg       0.77      0.77      0.77     25000\n",
      "weighted avg       0.77      0.77      0.77     25000\n",
      "\n"
     ]
    }
   ],
   "source": [
    "clf_bern_nb_lsa = BernoulliNB(alpha=0.4, fit_prior=True)\n",
    "clf_bern_nb_lsa.fit(X_train_lsa4, y_train4)\n",
    "print(clf_bern_nb_lsa.score(X_test_lsa4, y_test4))\n",
    "\n",
    "plot_confusion_matrix(clf_bern_nb_lsa, X_test_lsa4, y_test4)  \n",
    "plt.show()\n",
    "y_pred = clf_bern_nb_lsa.predict(X_test_lsa4)\n",
    "print('Bernoulli Naive Bayes on tfidf vectorized, dim reduced data (no stop words)\\n',\n",
    "      classification_report(y_test4, y_pred))"
   ]
  },
  {
   "cell_type": "markdown",
   "metadata": {},
   "source": [
    "Accuracy went down after dimensionality reduction from 0.83 to 0.77."
   ]
  },
  {
   "cell_type": "code",
   "execution_count": 41,
   "metadata": {},
   "outputs": [
    {
     "name": "stdout",
     "output_type": "stream",
     "text": [
      "0.81744\n"
     ]
    },
    {
     "data": {
      "image/png": "[encoded data removed]",
      "text/plain": [
       "<Figure size 432x288 with 2 Axes>"
      ]
     },
     "metadata": {
      "needs_background": "light"
     },
     "output_type": "display_data"
    },
    {
     "name": "stdout",
     "output_type": "stream",
     "text": [
      "Rocchio on tfidf vectorized, dim reduced data (no stop words)\n",
      "               precision    recall  f1-score   support\n",
      "\n",
      "           0       0.83      0.79      0.81     12500\n",
      "           1       0.80      0.84      0.82     12500\n",
      "\n",
      "    accuracy                           0.82     25000\n",
      "   macro avg       0.82      0.82      0.82     25000\n",
      "weighted avg       0.82      0.82      0.82     25000\n",
      "\n"
     ]
    }
   ],
   "source": [
    "clf_rocchio_lsa = NearestCentroid(metric='cosine')\n",
    "clf_rocchio_lsa.fit(X_train_lsa4, y_train4)\n",
    "print(clf_rocchio_lsa.score(X_test_lsa4, y_test4))\n",
    "\n",
    "plot_confusion_matrix(clf_rocchio_lsa, X_test_lsa4, y_test4)  \n",
    "plt.show()\n",
    "y_pred = clf_rocchio_lsa.predict(X_test_lsa4)\n",
    "print('Rocchio on tfidf vectorized, dim reduced data (no stop words)\\n',\n",
    "      classification_report(y_test4, y_pred))"
   ]
  },
  {
   "cell_type": "markdown",
   "metadata": {},
   "source": [
    "Accuracy did not change after dimensionality reduction 0.82 before and after reduction."
   ]
  },
  {
   "cell_type": "code",
   "execution_count": 42,
   "metadata": {},
   "outputs": [
    {
     "data": {
      "image/png": "[encoded data removed]",
      "text/plain": [
       "<Figure size 432x288 with 2 Axes>"
      ]
     },
     "metadata": {
      "needs_background": "light"
     },
     "output_type": "display_data"
    },
    {
     "name": "stdout",
     "output_type": "stream",
     "text": [
      "kNN with tfidf vectorized, dim reduced data (no stop words)\n",
      "               precision    recall  f1-score   support\n",
      "\n",
      "           0       0.69      0.82      0.75     12500\n",
      "           1       0.77      0.63      0.70     12500\n",
      "\n",
      "    accuracy                           0.72     25000\n",
      "   macro avg       0.73      0.72      0.72     25000\n",
      "weighted avg       0.73      0.72      0.72     25000\n",
      "\n"
     ]
    }
   ],
   "source": [
    "clf_knn_lsa = KNeighborsClassifier(metric='cosine', n_neighbors=27, weights='distance')\n",
    "clf_knn_lsa.fit(X_train_lsa4, y_train4)\n",
    "clf_knn_lsa.score(X_test_lsa4, y_test4)\n",
    "\n",
    "plot_confusion_matrix(clf_knn_lsa, X_test_lsa4, y_test4)  \n",
    "plt.show()\n",
    "y_pred = clf_knn_lsa.predict(X_test_lsa4)\n",
    "print('kNN with tfidf vectorized, dim reduced data (no stop words)\\n',\n",
    "      classification_report(y_test4, y_pred))"
   ]
  },
  {
   "cell_type": "markdown",
   "metadata": {},
   "source": [
    "Accuracy went up from 0.70 to 0.72 after dim reduction."
   ]
  },
  {
   "cell_type": "code",
   "execution_count": 43,
   "metadata": {},
   "outputs": [
    {
     "data": {
      "image/png": "[encoded data removed]",
      "text/plain": [
       "<Figure size 432x288 with 2 Axes>"
      ]
     },
     "metadata": {
      "needs_background": "light"
     },
     "output_type": "display_data"
    },
    {
     "name": "stdout",
     "output_type": "stream",
     "text": [
      "SVM with tfidf vectorized, dim reduced data (no stop words)\n",
      "               precision    recall  f1-score   support\n",
      "\n",
      "           0       0.88      0.87      0.87     12500\n",
      "           1       0.87      0.88      0.88     12500\n",
      "\n",
      "    accuracy                           0.87     25000\n",
      "   macro avg       0.87      0.87      0.87     25000\n",
      "weighted avg       0.87      0.87      0.87     25000\n",
      "\n"
     ]
    }
   ],
   "source": [
    "clf_svm_lsa = LinearSVC(C=1)\n",
    "clf_svm_lsa.fit(X_train_lsa4, y_train4)\n",
    "clf_svm_lsa.score(X_test_lsa4, y_test4)\n",
    "\n",
    "plot_confusion_matrix(clf_svm_lsa, X_test_lsa4, y_test4)  \n",
    "plt.show()\n",
    "y_pred = clf_svm_lsa.predict(X_test_lsa4)\n",
    "print('SVM with tfidf vectorized, dim reduced data (no stop words)\\n',\n",
    "      classification_report(y_test4, y_pred))"
   ]
  },
  {
   "cell_type": "markdown",
   "metadata": {},
   "source": [
    "Accuracy did not change after dim reduction."
   ]
  },
  {
   "cell_type": "markdown",
   "metadata": {},
   "source": [
    "## 5. Sentiment analysis"
   ]
  },
  {
   "cell_type": "markdown",
   "metadata": {},
   "source": [
    "Dave et al. Mining the Peanut Gallery. Opinion Extraction and Semantic Classification of Product Reviews (2003)"
   ]
  },
  {
   "attachments": {
    "2e5d1d76-43ec-42b2-92ee-9bf23e59cbe9.png": {
     "image/png": "[encoded data removed]"
    }
   },
   "cell_type": "markdown",
   "metadata": {},
   "source": [
    "![image.png](attachment:2e5d1d76-43ec-42b2-92ee-9bf23e59cbe9.png)"
   ]
  },
  {
   "cell_type": "code",
   "execution_count": 44,
   "metadata": {},
   "outputs": [],
   "source": [
    "import glob\n",
    "\n",
    "files_train_neg = glob.glob('train/neg/*.txt')\n",
    "files_train_pos = glob.glob('train/pos/*.txt')\n",
    "files_train = files_train_neg + files_train_pos\n",
    "\n",
    "files_test_neg = glob.glob('test/neg/*.txt') \n",
    "files_test_pos = glob.glob('test/pos/*.txt')\n",
    "files_test = files_test_neg + files_test_pos"
   ]
  },
  {
   "cell_type": "code",
   "execution_count": 47,
   "metadata": {},
   "outputs": [],
   "source": [
    "# creating separate vectorizer for positive and negative sentiments\n",
    "vectorizer_sa_positive = CountVectorizer(input='filename')\n",
    "X_train_positive = vectorizer_sa_positive.fit_transform(files_train_pos)\n",
    "words_positive = vectorizer_sa_positive.get_feature_names()\n",
    "counts_positive = X_train_positive.toarray().sum(axis=0)\n",
    "word_counts_positive = dict(zip(words_positive, counts_positive))\n",
    "n_terms_positive = X_train_positive.shape[1]\n",
    "\n",
    "vectorizer_sa_negative = CountVectorizer(input='filename')\n",
    "X_train_negative = vectorizer_sa_negative.fit_transform(files_train_neg)\n",
    "words_negative = vectorizer_sa_negative.get_feature_names()\n",
    "counts_negative = X_train_negative.toarray().sum(axis=0)\n",
    "word_counts_negative = dict(zip(words_negative, counts_negative))\n",
    "n_terms_negative = X_train_negative.shape[1]"
   ]
  },
  {
   "cell_type": "code",
   "execution_count": 60,
   "metadata": {},
   "outputs": [],
   "source": [
    "def get_term_score(term):\n",
    "    # returns score of the term\n",
    "    try:\n",
    "        PtCpos = word_counts_positive[term]/n_terms_positive\n",
    "        PtCneg = word_counts_negative[term]/n_terms_negative\n",
    "        return (PtCpos - PtCneg) / (PtCpos + PtCneg)\n",
    "    except:\n",
    "        return 0\n",
    "    \n",
    "predictions = []\n",
    "for file in files_test:\n",
    "    with open(file, encoding='utf8') as f:\n",
    "        words = []\n",
    "        for line in f:\n",
    "            words.extend(line.strip().split(' '))\n",
    "        words = [w.lower() for w in words if w != '']\n",
    "        scores = [get_term_score(term) for term in words]\n",
    "        prediction = 1 if sum(scores) > 0 else 0\n",
    "        predictions.append(prediction)"
   ]
  },
  {
   "cell_type": "code",
   "execution_count": 61,
   "metadata": {},
   "outputs": [],
   "source": [
    "from sklearn.metrics import confusion_matrix"
   ]
  },
  {
   "cell_type": "code",
   "execution_count": 63,
   "metadata": {},
   "outputs": [
    {
     "data": {
      "text/plain": [
       "array([[6877, 5623],\n",
       "       [6835, 5665]], dtype=int64)"
      ]
     },
     "execution_count": 63,
     "metadata": {},
     "output_type": "execute_result"
    }
   ],
   "source": [
    "confusion_matrix(y_true=y_test4, y_pred=predictions)"
   ]
  },
  {
   "cell_type": "markdown",
   "metadata": {},
   "source": [
    "As we can see the claasifier does not make a good job at classifying new objects. Perhaps its the case for unigrams only. Next step is trying classifier on bigrams."
   ]
  },
  {
   "cell_type": "code",
   "execution_count": 56,
   "metadata": {},
   "outputs": [
    {
     "data": {
      "text/plain": [
       "0.2560684619386785"
      ]
     },
     "execution_count": 56,
     "metadata": {},
     "output_type": "execute_result"
    }
   ],
   "source": [
    "#sample score of just one word 'not' in positive class\n",
    "word_counts_positive['not']/n_terms_positive"
   ]
  },
  {
   "cell_type": "code",
   "execution_count": 57,
   "metadata": {},
   "outputs": [
    {
     "data": {
      "text/plain": [
       "0.30154282870361837"
      ]
     },
     "execution_count": 57,
     "metadata": {},
     "output_type": "execute_result"
    }
   ],
   "source": [
    "#sample score of just one word 'not' in negative class\n",
    "word_counts_negative['not']/n_terms_negative"
   ]
  },
  {
   "cell_type": "code",
   "execution_count": 64,
   "metadata": {},
   "outputs": [
    {
     "ename": "MemoryError",
     "evalue": "Unable to allocate 80.9 GiB for an array with shape (12500, 868998) and data type int64",
     "output_type": "error",
     "traceback": [
      "\u001b[1;31m---------------------------------------------------------------------------\u001b[0m",
      "\u001b[1;31mMemoryError\u001b[0m                               Traceback (most recent call last)",
      "\u001b[1;32m<ipython-input-64-bf4e47e8be94>\u001b[0m in \u001b[0;36m<module>\u001b[1;34m\u001b[0m\n\u001b[0;32m      2\u001b[0m \u001b[0mX_train_positive\u001b[0m \u001b[1;33m=\u001b[0m \u001b[0mvectorizer_sa_positive\u001b[0m\u001b[1;33m.\u001b[0m\u001b[0mfit_transform\u001b[0m\u001b[1;33m(\u001b[0m\u001b[0mfiles_train_pos\u001b[0m\u001b[1;33m)\u001b[0m\u001b[1;33m\u001b[0m\u001b[1;33m\u001b[0m\u001b[0m\n\u001b[0;32m      3\u001b[0m \u001b[0mwords_positive\u001b[0m \u001b[1;33m=\u001b[0m \u001b[0mvectorizer_sa_positive\u001b[0m\u001b[1;33m.\u001b[0m\u001b[0mget_feature_names\u001b[0m\u001b[1;33m(\u001b[0m\u001b[1;33m)\u001b[0m\u001b[1;33m\u001b[0m\u001b[1;33m\u001b[0m\u001b[0m\n\u001b[1;32m----> 4\u001b[1;33m \u001b[0mcounts_positive\u001b[0m \u001b[1;33m=\u001b[0m \u001b[0mX_train_positive\u001b[0m\u001b[1;33m.\u001b[0m\u001b[0mtoarray\u001b[0m\u001b[1;33m(\u001b[0m\u001b[1;33m)\u001b[0m\u001b[1;33m.\u001b[0m\u001b[0msum\u001b[0m\u001b[1;33m(\u001b[0m\u001b[0maxis\u001b[0m\u001b[1;33m=\u001b[0m\u001b[1;36m0\u001b[0m\u001b[1;33m)\u001b[0m\u001b[1;33m\u001b[0m\u001b[1;33m\u001b[0m\u001b[0m\n\u001b[0m\u001b[0;32m      5\u001b[0m \u001b[0mword_counts_positive\u001b[0m \u001b[1;33m=\u001b[0m \u001b[0mdict\u001b[0m\u001b[1;33m(\u001b[0m\u001b[0mzip\u001b[0m\u001b[1;33m(\u001b[0m\u001b[0mwords_positive\u001b[0m\u001b[1;33m,\u001b[0m \u001b[0mcounts_positive\u001b[0m\u001b[1;33m)\u001b[0m\u001b[1;33m)\u001b[0m\u001b[1;33m\u001b[0m\u001b[1;33m\u001b[0m\u001b[0m\n\u001b[0;32m      6\u001b[0m \u001b[0mn_terms_positive\u001b[0m \u001b[1;33m=\u001b[0m \u001b[0mX_train_positive\u001b[0m\u001b[1;33m.\u001b[0m\u001b[0mshape\u001b[0m\u001b[1;33m[\u001b[0m\u001b[1;36m1\u001b[0m\u001b[1;33m]\u001b[0m\u001b[1;33m\u001b[0m\u001b[1;33m\u001b[0m\u001b[0m\n",
      "\u001b[1;32mC:\\ProgramData\\Anaconda3\\lib\\site-packages\\scipy\\sparse\\compressed.py\u001b[0m in \u001b[0;36mtoarray\u001b[1;34m(self, order, out)\u001b[0m\n\u001b[0;32m   1023\u001b[0m         \u001b[1;32mif\u001b[0m \u001b[0mout\u001b[0m \u001b[1;32mis\u001b[0m \u001b[1;32mNone\u001b[0m \u001b[1;32mand\u001b[0m \u001b[0morder\u001b[0m \u001b[1;32mis\u001b[0m \u001b[1;32mNone\u001b[0m\u001b[1;33m:\u001b[0m\u001b[1;33m\u001b[0m\u001b[1;33m\u001b[0m\u001b[0m\n\u001b[0;32m   1024\u001b[0m             \u001b[0morder\u001b[0m \u001b[1;33m=\u001b[0m \u001b[0mself\u001b[0m\u001b[1;33m.\u001b[0m\u001b[0m_swap\u001b[0m\u001b[1;33m(\u001b[0m\u001b[1;34m'cf'\u001b[0m\u001b[1;33m)\u001b[0m\u001b[1;33m[\u001b[0m\u001b[1;36m0\u001b[0m\u001b[1;33m]\u001b[0m\u001b[1;33m\u001b[0m\u001b[1;33m\u001b[0m\u001b[0m\n\u001b[1;32m-> 1025\u001b[1;33m         \u001b[0mout\u001b[0m \u001b[1;33m=\u001b[0m \u001b[0mself\u001b[0m\u001b[1;33m.\u001b[0m\u001b[0m_process_toarray_args\u001b[0m\u001b[1;33m(\u001b[0m\u001b[0morder\u001b[0m\u001b[1;33m,\u001b[0m \u001b[0mout\u001b[0m\u001b[1;33m)\u001b[0m\u001b[1;33m\u001b[0m\u001b[1;33m\u001b[0m\u001b[0m\n\u001b[0m\u001b[0;32m   1026\u001b[0m         \u001b[1;32mif\u001b[0m \u001b[1;32mnot\u001b[0m \u001b[1;33m(\u001b[0m\u001b[0mout\u001b[0m\u001b[1;33m.\u001b[0m\u001b[0mflags\u001b[0m\u001b[1;33m.\u001b[0m\u001b[0mc_contiguous\u001b[0m \u001b[1;32mor\u001b[0m \u001b[0mout\u001b[0m\u001b[1;33m.\u001b[0m\u001b[0mflags\u001b[0m\u001b[1;33m.\u001b[0m\u001b[0mf_contiguous\u001b[0m\u001b[1;33m)\u001b[0m\u001b[1;33m:\u001b[0m\u001b[1;33m\u001b[0m\u001b[1;33m\u001b[0m\u001b[0m\n\u001b[0;32m   1027\u001b[0m             \u001b[1;32mraise\u001b[0m \u001b[0mValueError\u001b[0m\u001b[1;33m(\u001b[0m\u001b[1;34m'Output array must be C or F contiguous'\u001b[0m\u001b[1;33m)\u001b[0m\u001b[1;33m\u001b[0m\u001b[1;33m\u001b[0m\u001b[0m\n",
      "\u001b[1;32mC:\\ProgramData\\Anaconda3\\lib\\site-packages\\scipy\\sparse\\base.py\u001b[0m in \u001b[0;36m_process_toarray_args\u001b[1;34m(self, order, out)\u001b[0m\n\u001b[0;32m   1183\u001b[0m             \u001b[1;32mreturn\u001b[0m \u001b[0mout\u001b[0m\u001b[1;33m\u001b[0m\u001b[1;33m\u001b[0m\u001b[0m\n\u001b[0;32m   1184\u001b[0m         \u001b[1;32melse\u001b[0m\u001b[1;33m:\u001b[0m\u001b[1;33m\u001b[0m\u001b[1;33m\u001b[0m\u001b[0m\n\u001b[1;32m-> 1185\u001b[1;33m             \u001b[1;32mreturn\u001b[0m \u001b[0mnp\u001b[0m\u001b[1;33m.\u001b[0m\u001b[0mzeros\u001b[0m\u001b[1;33m(\u001b[0m\u001b[0mself\u001b[0m\u001b[1;33m.\u001b[0m\u001b[0mshape\u001b[0m\u001b[1;33m,\u001b[0m \u001b[0mdtype\u001b[0m\u001b[1;33m=\u001b[0m\u001b[0mself\u001b[0m\u001b[1;33m.\u001b[0m\u001b[0mdtype\u001b[0m\u001b[1;33m,\u001b[0m \u001b[0morder\u001b[0m\u001b[1;33m=\u001b[0m\u001b[0morder\u001b[0m\u001b[1;33m)\u001b[0m\u001b[1;33m\u001b[0m\u001b[1;33m\u001b[0m\u001b[0m\n\u001b[0m\u001b[0;32m   1186\u001b[0m \u001b[1;33m\u001b[0m\u001b[0m\n\u001b[0;32m   1187\u001b[0m \u001b[1;33m\u001b[0m\u001b[0m\n",
      "\u001b[1;31mMemoryError\u001b[0m: Unable to allocate 80.9 GiB for an array with shape (12500, 868998) and data type int64"
     ]
    }
   ],
   "source": [
    "vectorizer_sa_positive = CountVectorizer(ngram_range=(2, 2), input='filename')\n",
    "X_train_positive = vectorizer_sa_positive.fit_transform(files_train_pos)\n",
    "words_positive = vectorizer_sa_positive.get_feature_names()\n",
    "counts_positive = X_train_positive.toarray().sum(axis=0)\n",
    "word_counts_positive = dict(zip(words_positive, counts_positive))\n",
    "n_terms_positive = X_train_positive.shape[1]\n",
    "\n",
    "vectorizer_sa_negative = CountVectorizer(ngram_range=(2, 2), input='filename')\n",
    "X_train_negative = vectorizer_sa_negative.fit_transform(files_train_neg)\n",
    "words_negative = vectorizer_sa_negative.get_feature_names()\n",
    "counts_negative = X_train_negative.toarray().sum(axis=0)\n",
    "word_counts_negative = dict(zip(words_negative, counts_negative))\n",
    "n_terms_negative = X_train_negative.shape[1]"
   ]
  },
  {
   "cell_type": "markdown",
   "metadata": {},
   "source": [
    "The data exceeded memory for n grams."
   ]
  },
  {
   "cell_type": "markdown",
   "metadata": {},
   "source": [
    "## 6. Top tokens for Multinomial and SVM:"
   ]
  },
  {
   "cell_type": "markdown",
   "metadata": {},
   "source": [
    "#### Multinomial NB:"
   ]
  },
  {
   "cell_type": "code",
   "execution_count": 65,
   "metadata": {},
   "outputs": [],
   "source": [
    "import numpy as np\n",
    "def show_top50(classifier, vectorizer, categories):\n",
    "    feature_names = np.asarray(vectorizer.get_feature_names())\n",
    "    for i, category in enumerate(categories):\n",
    "        top10 = np.argsort(classifier.feature_log_prob_[i])[-50:]\n",
    "        print(\"%s: %s\" % (category, \" \".join(feature_names[top10])))"
   ]
  },
  {
   "cell_type": "code",
   "execution_count": 66,
   "metadata": {},
   "outputs": [
    {
     "name": "stdout",
     "output_type": "stream",
     "text": [
      "0: director awful going pretty want doesn waste does actually scene script minutes horror little scenes funny end actors films didn character say thing ve know watching characters way seen did think better worst watch people make story movies plot acting time don really good like just bad film movie br\n",
      "1: saw better old scenes scene lot young cast makes say excellent family ve acting world end series real funny does did make know 10 years man character little don characters way films seen watch think movies life people best love really time just story like good great film movie br\n"
     ]
    }
   ],
   "source": [
    "show_top50(clf_multi_nb4, vectorizer4, [0, 1])"
   ]
  },
  {
   "cell_type": "markdown",
   "metadata": {},
   "source": [
    "#### SVM:"
   ]
  },
  {
   "cell_type": "code",
   "execution_count": 67,
   "metadata": {},
   "outputs": [],
   "source": [
    "clf_svm = LinearSVC(C=1)\n",
    "clf_svm.fit(X_train4, y_train4)\n",
    "clf_svm.score(X_test4, y_test4)\n",
    "\n",
    "y_pred = clf_svm.predict(X_test4)"
   ]
  },
  {
   "cell_type": "code",
   "execution_count": 68,
   "metadata": {},
   "outputs": [],
   "source": [
    "#getting most common words separately from test class negative and class positive\n",
    "files_predicted_positive=[]\n",
    "files_predicted_negative=[]\n",
    "for f, p in zip(files_test, y_pred):\n",
    "    if p==0:\n",
    "        files_predicted_positive.append(f)\n",
    "    elif p==1:\n",
    "        files_predicted_negative.append(f)"
   ]
  },
  {
   "cell_type": "code",
   "execution_count": 69,
   "metadata": {},
   "outputs": [],
   "source": [
    "vectorizer_positive = CountVectorizer(input='filename', stop_words='english')\n",
    "vectorizer_negative = CountVectorizer(input='filename', stop_words='english')"
   ]
  },
  {
   "cell_type": "code",
   "execution_count": 70,
   "metadata": {},
   "outputs": [],
   "source": [
    "X_positive = vectorizer_positive.fit_transform(files_predicted_positive)\n",
    "X_negative = vectorizer_negative.fit_transform(files_predicted_negative)"
   ]
  },
  {
   "cell_type": "code",
   "execution_count": 71,
   "metadata": {},
   "outputs": [],
   "source": [
    "from collections import Counter\n",
    "\n",
    "words_pos = vectorizer_positive.get_feature_names()\n",
    "counts_positive = X_positive.toarray().sum(axis=0)\n",
    "wc_positive = Counter(dict(zip(words_pos, counts_positive)))\n",
    "\n",
    "words_neg = vectorizer_negative.get_feature_names()\n",
    "counts_negative = X_negative.toarray().sum(axis=0)\n",
    "wc_negative = Counter(dict(zip(words_pos, counts_negative)))"
   ]
  },
  {
   "cell_type": "code",
   "execution_count": 73,
   "metadata": {},
   "outputs": [
    {
     "data": {
      "text/plain": [
       "[('borrowing', 49043),\n",
       " ('misunderstanding', 21373),\n",
       " ('feeney', 19244),\n",
       " ('lavant', 9475),\n",
       " ('jcdv', 8493),\n",
       " ('gila', 7203),\n",
       " ('tbor', 6029),\n",
       " ('spokesperson', 5461),\n",
       " ('pushes', 5456),\n",
       " ('awing', 4456),\n",
       " ('goering', 4445),\n",
       " ('palpatine', 4335),\n",
       " ('divined', 4270),\n",
       " ('lovestory', 3834),\n",
       " ('versus', 3731),\n",
       " ('mithi', 3691),\n",
       " ('ch', 3638),\n",
       " ('cervantes', 3446),\n",
       " ('fellatio', 3442),\n",
       " ('takahiro', 3366),\n",
       " ('venues', 3349),\n",
       " ('saratoga', 3257),\n",
       " ('likewise', 3193),\n",
       " ('persuasive', 3161),\n",
       " ('deus', 3098),\n",
       " ('latvia', 3057),\n",
       " ('katherine', 3035),\n",
       " ('achtung', 3030),\n",
       " ('belongings', 3013),\n",
       " ('legitimately', 2928),\n",
       " ('luico', 2837),\n",
       " ('benefactor', 2799),\n",
       " ('rubell', 2794),\n",
       " ('distantness', 2714),\n",
       " ('rotflol', 2694),\n",
       " ('emaciated', 2643),\n",
       " ('rubin', 2570),\n",
       " ('unforgivably', 2446),\n",
       " ('purposes', 2310),\n",
       " ('taiwan', 2227),\n",
       " ('acme', 2218),\n",
       " ('diehard', 2178),\n",
       " ('verbatim', 2174),\n",
       " ('acoustic', 2095),\n",
       " ('whitman', 2089),\n",
       " ('devalued', 2085),\n",
       " ('freakishly', 2082),\n",
       " ('10', 2070),\n",
       " ('distaste', 2067),\n",
       " ('ghoulardi', 2051)]"
      ]
     },
     "execution_count": 73,
     "metadata": {},
     "output_type": "execute_result"
    }
   ],
   "source": [
    "wc_negative.most_common(50)"
   ]
  },
  {
   "cell_type": "code",
   "execution_count": 72,
   "metadata": {},
   "outputs": [
    {
     "data": {
      "text/plain": [
       "[('br', 51037),\n",
       " ('movie', 22551),\n",
       " ('film', 20302),\n",
       " ('like', 10416),\n",
       " ('just', 8917),\n",
       " ('good', 7403),\n",
       " ('time', 6354),\n",
       " ('really', 5900),\n",
       " ('story', 5670),\n",
       " ('bad', 4709),\n",
       " ('great', 4639),\n",
       " ('people', 4566),\n",
       " ('don', 4505),\n",
       " ('make', 4040),\n",
       " ('movies', 3950),\n",
       " ('way', 3888),\n",
       " ('think', 3674),\n",
       " ('characters', 3659),\n",
       " ('watch', 3624),\n",
       " ('seen', 3437),\n",
       " ('character', 3435),\n",
       " ('films', 3424),\n",
       " ('love', 3362),\n",
       " ('acting', 3343),\n",
       " ('know', 3308),\n",
       " ('plot', 3237),\n",
       " ('did', 3229),\n",
       " ('life', 3228),\n",
       " ('best', 3183),\n",
       " ('little', 3069),\n",
       " ('man', 3007),\n",
       " ('does', 2973),\n",
       " ('better', 2891),\n",
       " ('end', 2827),\n",
       " ('scene', 2791),\n",
       " ('scenes', 2699),\n",
       " ('say', 2680),\n",
       " ('ve', 2592),\n",
       " ('thing', 2421),\n",
       " ('funny', 2386),\n",
       " ('watching', 2385),\n",
       " ('real', 2384),\n",
       " ('didn', 2344),\n",
       " ('doesn', 2258),\n",
       " ('actors', 2245),\n",
       " ('look', 2194),\n",
       " ('10', 2193),\n",
       " ('director', 2185),\n",
       " ('work', 2164),\n",
       " ('old', 2162)]"
      ]
     },
     "execution_count": 72,
     "metadata": {},
     "output_type": "execute_result"
    }
   ],
   "source": [
    "wc_positive.most_common(50)"
   ]
  },
  {
   "cell_type": "markdown",
   "metadata": {},
   "source": [
    "# 7. Clustering documents"
   ]
  },
  {
   "cell_type": "code",
   "execution_count": 74,
   "metadata": {},
   "outputs": [
    {
     "data": {
      "text/plain": [
       "KMeans(n_clusters=2, random_state=10)"
      ]
     },
     "execution_count": 74,
     "metadata": {},
     "output_type": "execute_result"
    }
   ],
   "source": [
    "from sklearn.cluster import KMeans\n",
    "km = KMeans(n_clusters = 2, random_state = 10)\n",
    "km.fit(X_train4)"
   ]
  },
  {
   "cell_type": "code",
   "execution_count": 75,
   "metadata": {},
   "outputs": [],
   "source": [
    "import pandas as pd"
   ]
  },
  {
   "cell_type": "code",
   "execution_count": 76,
   "metadata": {},
   "outputs": [
    {
     "data": {
      "text/plain": [
       "0     9330\n",
       "1    15670\n",
       "dtype: int64"
      ]
     },
     "execution_count": 76,
     "metadata": {},
     "output_type": "execute_result"
    }
   ],
   "source": [
    "y_pred = km.predict(X_train4)\n",
    "pd.Series(y_pred).value_counts().sort_index()"
   ]
  },
  {
   "cell_type": "code",
   "execution_count": 77,
   "metadata": {},
   "outputs": [],
   "source": [
    "correct=0\n",
    "for y, y_hat in zip(y_train4, y_pred):\n",
    "    if y == y_hat:\n",
    "        correct+=1"
   ]
  },
  {
   "cell_type": "code",
   "execution_count": 78,
   "metadata": {},
   "outputs": [
    {
     "data": {
      "text/plain": [
       "0.52312"
      ]
     },
     "execution_count": 78,
     "metadata": {},
     "output_type": "execute_result"
    }
   ],
   "source": [
    "accuracy = correct / len(y_pred)\n",
    "accuracy"
   ]
  },
  {
   "cell_type": "markdown",
   "metadata": {},
   "source": [
    "# 8. Opinion Lexicon"
   ]
  },
  {
   "cell_type": "code",
   "execution_count": 79,
   "metadata": {},
   "outputs": [],
   "source": [
    "from nltk.corpus import opinion_lexicon"
   ]
  },
  {
   "cell_type": "code",
   "execution_count": null,
   "metadata": {},
   "outputs": [],
   "source": []
  }
 ],
 "metadata": {
  "kernelspec": {
   "display_name": "Python 3",
   "language": "python",
   "name": "python3"
  },
  "language_info": {
   "codemirror_mode": {
    "name": "ipython",
    "version": 3
   },
   "file_extension": ".py",
   "mimetype": "text/x-python",
   "name": "python",
   "nbconvert_exporter": "python",
   "pygments_lexer": "ipython3",
   "version": "3.8.5"
  }
 },
 "nbformat": 4,
 "nbformat_minor": 4
}
